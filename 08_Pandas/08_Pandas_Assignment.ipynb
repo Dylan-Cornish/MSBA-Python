{
 "cells": [
  {
   "cell_type": "markdown",
   "metadata": {},
   "source": [
    "## 08 Pandas Assignment\n",
    "Let's explore the power of Pandas!\n",
    "Documentation on installation here: https://pandas.pydata.org/docs/getting_started/index.html#installation\n",
    "\n",
    "Getting started here: https://pandas.pydata.org/docs/user_guide/10min.html"
   ]
  },
  {
   "cell_type": "code",
   "execution_count": 4,
   "metadata": {},
   "outputs": [],
   "source": [
    "#Load the library from your local machine (hint: use Anaconda distribution or see documentation)\n",
    "\n",
    "import pandas as pd"
   ]
  },
  {
   "cell_type": "markdown",
   "metadata": {},
   "source": [
    "### 1 (10 points) Create a Series\n",
    "Name it \"My_First_Series\" and have it hold your 5 favorite numbers"
   ]
  },
  {
   "cell_type": "code",
   "execution_count": null,
   "metadata": {},
   "outputs": [],
   "source": [
    "#Your Answer Goes here"
   ]
  },
  {
   "cell_type": "markdown",
   "metadata": {},
   "source": [
    "### 2 (10 points) Create a Dataframe\n",
    "Create a custom dataframe called \"My_Favorite_Movies\" that uses a dictionary and a list. For the key, include the name of your favorite 2 movies. For the pair (list) include your three favorite characters and the year the movie came out. Finally, set your index for characters and year of release.\n",
    "Hint: You should have two columns and four rows with row titles (index)\n"
   ]
  },
  {
   "cell_type": "code",
   "execution_count": 5,
   "metadata": {},
   "outputs": [],
   "source": [
    "# Your Answer Goes Here"
   ]
  },
  {
   "cell_type": "markdown",
   "metadata": {},
   "source": [
    "### 3 (5 points) Loading a Dataset\n",
    "Load the Titanic .csv file and return the last five rows using a Pandas method"
   ]
  },
  {
   "cell_type": "code",
   "execution_count": null,
   "metadata": {},
   "outputs": [],
   "source": [
    "# Your Answer Goes Here"
   ]
  },
  {
   "cell_type": "code",
   "execution_count": null,
   "metadata": {},
   "outputs": [],
   "source": []
  },
  {
   "cell_type": "markdown",
   "metadata": {},
   "source": [
    "### 4 (10 points) Exploring Your Dataset\n",
    "Let's see what our dataset looks like with some basic exploratory methods. Return the number of rows and columns, describe the data, "
   ]
  },
  {
   "cell_type": "code",
   "execution_count": null,
   "metadata": {},
   "outputs": [],
   "source": []
  }
 ],
 "metadata": {
  "kernelspec": {
   "display_name": "Python 3",
   "language": "python",
   "name": "python3"
  },
  "language_info": {
   "codemirror_mode": {
    "name": "ipython",
    "version": 3
   },
   "file_extension": ".py",
   "mimetype": "text/x-python",
   "name": "python",
   "nbconvert_exporter": "python",
   "pygments_lexer": "ipython3",
   "version": "3.8.5"
  }
 },
 "nbformat": 4,
 "nbformat_minor": 4
}
